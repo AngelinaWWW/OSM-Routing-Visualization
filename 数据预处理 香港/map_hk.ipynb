{
 "cells": [
  {
   "cell_type": "code",
   "execution_count": 69,
   "metadata": {},
   "outputs": [],
   "source": [
    "import pandas as pd\n",
    "import geopandas as gpd\n",
    "import osmnx as ox\n",
    "import folium\n",
    "import matplotlib.pyplot as plt\n",
    "import seaborn as sns"
   ]
  },
  {
   "cell_type": "code",
   "execution_count": null,
   "metadata": {},
   "outputs": [],
   "source": [
    "place = \"Hong Kong, China\"\n",
    "graph = ox.graph_from_place(place, network_type=\"drive\")\n",
    "len(graph)"
   ]
  },
  {
   "cell_type": "code",
   "execution_count": null,
   "metadata": {},
   "outputs": [],
   "source": [
    "#Streets\n",
    "nodes, streets = ox.graph_to_gdfs(graph)\n",
    "streets"
   ]
  },
  {
   "cell_type": "code",
   "execution_count": null,
   "metadata": {},
   "outputs": [],
   "source": [
    "#streets.drop(['osmid','oneway','lanes','name','highway','reversed','geometry','ref','maxspeed','bridge','area','junction','access','tunnel','width'],axis=1).to_csv(\"maps.csv\",index=True,mode='w')\n",
    "\n",
    "length_gdfs=streets[['length']]\n",
    "length_gdfs=length_gdfs.reset_index(level='key',drop=True)\n",
    "length_gdfs.to_csv(\"maphk.csv\",index=True,mode='w')"
   ]
  },
  {
   "cell_type": "code",
   "execution_count": null,
   "metadata": {},
   "outputs": [],
   "source": []
  },
  {
   "cell_type": "code",
   "execution_count": null,
   "metadata": {},
   "outputs": [],
   "source": [
    "#处理数据\n",
    "current_index=1\n",
    "appearance_dict={}\n",
    "\n",
    "for index,length in length_gdfs.iterrows():\n",
    "    if(not index[0] in appearance_dict):\n",
    "        appearance_dict[index[0]]=current_index\n",
    "        current_index+=1\n",
    "    \n",
    "for index,length in length_gdfs.iterrows():\n",
    "    if(not index[1] in appearance_dict):\n",
    "        appearance_dict[index[1]]=current_index\n",
    "        current_index+=1\n",
    "\n",
    "length_gdfs=length_gdfs.reset_index()\n",
    "length_gdfs['u']=length_gdfs['u'].replace(appearance_dict)\n",
    "length_gdfs['v']=length_gdfs['v'].replace(appearance_dict)\n",
    "length_gdfs=length_gdfs.set_index(['u','v'])\n",
    "\n",
    "length_gdfs.to_csv(\"maphk_final.csv\",index=True,mode='w')\n",
    "print('finish')"
   ]
  },
  {
   "cell_type": "code",
   "execution_count": null,
   "metadata": {},
   "outputs": [],
   "source": []
  }
 ],
 "metadata": {
  "interpreter": {
   "hash": "f3e953dcf1fd9b6bb780004c798792661fc4f9a83c9a075c1ff902e8ed78b6e7"
  },
  "kernelspec": {
   "display_name": "Python 3 (ipykernel)",
   "language": "python",
   "name": "python3"
  },
  "language_info": {
   "codemirror_mode": {
    "name": "ipython",
    "version": 3
   },
   "file_extension": ".py",
   "mimetype": "text/x-python",
   "name": "python",
   "nbconvert_exporter": "python",
   "pygments_lexer": "ipython3",
   "version": "3.9.7"
  }
 },
 "nbformat": 4,
 "nbformat_minor": 2
}
